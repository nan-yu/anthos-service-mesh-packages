{
 "cells": [
  {
   "cell_type": "code",
   "execution_count": null,
   "metadata": {},
   "outputs": [],
   "source": [
    "%env GCS_TRUSTED_MIRROR=gs://anthoscli-test-cloudbuild-mirror"
   ]
  },
  {
   "cell_type": "code",
   "execution_count": null,
   "metadata": {},
   "outputs": [],
   "source": [
    "import os\n",
    "import sys\n",
    "sys.path.insert(0, os.path.abspath('../lib'))\n",
    "\n",
    "from state import *\n",
    "from e2e import *\n",
    "from downloads import *\n",
    "from anthoscli import *\n",
    "from gcloud import *\n",
    "from kpt import *\n",
    "from kubectl import *\n",
    "\n",
    "state = load_state()\n",
    "state"
   ]
  },
  {
   "cell_type": "markdown",
   "metadata": {},
   "source": [
    "#### Install gcloud"
   ]
  },
  {
   "cell_type": "code",
   "execution_count": null,
   "metadata": {},
   "outputs": [],
   "source": [
    "if not \"gcloud_version\" in state:\n",
    "    update_state(state, { \"gcloud_version\": \"281.0.0\" }) # TODO: how to query latest version?\n",
    "gcloud = download_gcloud(state[\"gcloud_version\"])\n",
    "gcloud"
   ]
  },
  {
   "cell_type": "markdown",
   "metadata": {},
   "source": [
    "#### Install kubectl"
   ]
  },
  {
   "cell_type": "code",
   "execution_count": null,
   "metadata": {},
   "outputs": [],
   "source": [
    "if not \"kubernetes_version\" in state:\n",
    "    update_state(state, { \"kubernetes_version\": get_kubernetes_version(\"stable\") })\n",
    "kubectl = download_kubectl(state[\"kubernetes_version\"])\n",
    "kubectl\n",
    "kubectl.version()"
   ]
  },
  {
   "cell_type": "markdown",
   "metadata": {},
   "source": [
    "#### Install anthoscli"
   ]
  },
  {
   "cell_type": "code",
   "execution_count": null,
   "metadata": {},
   "outputs": [],
   "source": [
    "if not \"anthoscli_version\" in state:\n",
    "    update_state(state, { \"anthoscli_version\": \"0.0.13\" }) # TODO: how to query latest version?\n",
    "anthoscli = download_anthoscli(state[\"anthoscli_version\"], gcloud=gcloud)\n",
    "kubectl.add_to_path(anthoscli.env)\n",
    "gcloud.add_to_path(anthoscli.env)\n",
    "anthoscli.env[\"PATH\"]"
   ]
  },
  {
   "cell_type": "code",
   "execution_count": null,
   "metadata": {},
   "outputs": [],
   "source": [
    "v = anthoscli.version()\n",
    "update_state(state, { \"anthoscli_reported_version\": v} )\n",
    "v"
   ]
  },
  {
   "cell_type": "markdown",
   "metadata": {},
   "source": [
    "#### Install kpt"
   ]
  },
  {
   "cell_type": "code",
   "execution_count": null,
   "metadata": {},
   "outputs": [],
   "source": [
    "workdir = workspace_dir()\n",
    "statedir = os.path.join(workdir, \"my-anthos\")\n",
    "os.makedirs(statedir, exist_ok=True)\n",
    "kpt = download_kpt(\"0.4.0\", gcloud=gcloud, statedir=statedir) # TODO: How to get tagged version?\n",
    "kpt"
   ]
  },
  {
   "cell_type": "markdown",
   "metadata": {},
   "source": [
    "#### Configure project, zone etc."
   ]
  },
  {
   "cell_type": "code",
   "execution_count": null,
   "metadata": {},
   "outputs": [],
   "source": [
    "if not \"project\" in state:\n",
    "    p = os.environ.get(\"PROJECT_ID\")\n",
    "    if not p:\n",
    "        p = gcloud.current_project()\n",
    "    update_state(state, { \"project\": p })\n",
    "gcloud.set_current_project(state[\"project\"])"
   ]
  },
  {
   "cell_type": "code",
   "execution_count": null,
   "metadata": {},
   "outputs": [],
   "source": [
    "if not \"zone\" in state:\n",
    "    update_state(state, { \"zone\": \"us-central1-f\" })"
   ]
  },
  {
   "cell_type": "code",
   "execution_count": null,
   "metadata": {},
   "outputs": [],
   "source": [
    "save_state(state)\n",
    "state"
   ]
  },
  {
   "cell_type": "markdown",
   "metadata": {},
   "source": [
    "#### Get the asm kpt package"
   ]
  },
  {
   "cell_type": "code",
   "execution_count": null,
   "metadata": {},
   "outputs": [],
   "source": [
    "# TODO: Get latest package?\n",
    "asm_package = \"https://github.com/GoogleCloudPlatform/anthos-service-mesh-packages.git/asm@v1.4.2\"\n",
    "kpt.get(asm_package, \"cluster1/\")"
   ]
  },
  {
   "cell_type": "code",
   "execution_count": null,
   "metadata": {},
   "outputs": [],
   "source": [
    "kpt.set(\"cluster1/\", \"gcloud.compute.zone\", state[\"zone\"])"
   ]
  },
  {
   "cell_type": "markdown",
   "metadata": {},
   "source": [
    "#### Apply it using anthoscli"
   ]
  },
  {
   "cell_type": "code",
   "execution_count": null,
   "metadata": {},
   "outputs": [],
   "source": [
    "anthoscli.apply(statedir)"
   ]
  },
  {
   "cell_type": "markdown",
   "metadata": {},
   "source": [
    "#### Perform some basic sanity checks "
   ]
  },
  {
   "cell_type": "code",
   "execution_count": null,
   "metadata": {},
   "outputs": [],
   "source": [
    "cluster = gcloud.describe_gke_cluster(state[\"zone\"], \"asm-cluster\")\n",
    "cluster"
   ]
  },
  {
   "cell_type": "code",
   "execution_count": null,
   "metadata": {},
   "outputs": [],
   "source": [
    "status = cluster.get(\"status\")\n",
    "if status == \"RUNNING\":\n",
    "    update_state(state, {\"success\": True})\n",
    "else:\n",
    "    update_state(state, {\"success\": False})\n",
    "save_state(state)"
   ]
  },
  {
   "cell_type": "markdown",
   "metadata": {},
   "source": [
    "#### Clean up!"
   ]
  },
  {
   "cell_type": "code",
   "execution_count": null,
   "metadata": {},
   "outputs": [],
   "source": [
    "gcloud.delete_gke_cluster(state[\"zone\"], \"asm-cluster\")"
   ]
  },
  {
   "cell_type": "code",
   "execution_count": null,
   "metadata": {},
   "outputs": [],
   "source": [
    "if state[\"success\"]:\n",
    "  !git clone git@github.com:nan-yu/anthos-service-mesh-packages.git /tmp/asm\n",
    "else:\n",
    "  print(\"The cluster is not running\")\n"
   ]
  }
 ],
 "metadata": {
  "kernelspec": {
   "display_name": "Python 3",
   "language": "python",
   "name": "python3"
  },
  "language_info": {
   "codemirror_mode": {
    "name": "ipython",
    "version": 3
   },
   "file_extension": ".py",
   "mimetype": "text/x-python",
   "name": "python",
   "nbconvert_exporter": "python",
   "pygments_lexer": "ipython3",
   "version": "3.7.5rc1"
  }
 },
 "nbformat": 4,
 "nbformat_minor": 2
}
